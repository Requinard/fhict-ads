{
 "cells": [
  {
   "cell_type": "markdown",
   "metadata": {},
   "source": [
    "## NumPy Exercise Book"
   ]
  },
  {
   "cell_type": "markdown",
   "metadata": {},
   "source": [
    "#### Introduction"
   ]
  },
  {
   "cell_type": "markdown",
   "metadata": {},
   "source": [
    "In scikit-learn (sklearn) we will usually do the calculations with numerical arrays. As the built-in Python list is not suitable to serve as numeric array, sklearn utilizes NumPy arrays. The designers of NumPy took great care in making NumPy arrays in a \"pythonic\" way.\n",
    "\n",
    "NumPy arrays are more efficient than regular python lists because they are homogeneous: all elements are of the same type. As a consequence memory size only depends on the number of elements. This makes calculations much more efficient.\n",
    "\n",
    "In this exercise we will only focus on the array handling functionality of NumPy as this is what we will mostly use from NumPy when using sklearn. Under the hood, sklearn will use a lot more of NumPy's functionality, but we will stay away from the linear algebra jungle sklearn is built upon.  \n",
    "Please note these exercises only represent a tiny part of NumPy's functionality. What's more, these exercises only touch a small part of NumPy's array handling functionality. It's only meant to get you going in exploring NumPy's extensive array handling capabilities.\n",
    "\n",
    "Having finished this exercise book and want to know some more (I'm sure you will!): Robert Johansson created a nice introductory NumPy [notebook](https://goo.gl/zfsx77). "
   ]
  },
  {
   "cell_type": "markdown",
   "metadata": {},
   "source": [
    "#### Creating NumPy arrays"
   ]
  },
  {
   "cell_type": "code",
   "execution_count": 128,
   "metadata": {},
   "outputs": [
    {
     "name": "stdout",
     "output_type": "stream",
     "text": [
      "[1 2 3]\n",
      "[1 2 3]\n"
     ]
    }
   ],
   "source": [
    "import numpy as np\n",
    "# Numpy arrays are created from  python lists and tuples using the array function\n",
    "print(np.array([1,2,3]))   # from a list (note square brackets)\n",
    "print(np.array((1,2,3)))   # from a tuple (note parenthesis)"
   ]
  },
  {
   "cell_type": "code",
   "execution_count": 129,
   "metadata": {},
   "outputs": [
    {
     "data": {
      "text/plain": [
       "array([0, 0, 1, 2, 0])"
      ]
     },
     "execution_count": 129,
     "metadata": {},
     "output_type": "execute_result"
    }
   ],
   "source": [
    "# create an array for the string 'aacta' with lookup list ['a','c','t']\n",
    "# you should get array([0, 0, 1, 2, 0]) which is a simple numeric encoding of the string\n",
    "np.array([i for c in 'aacta' for i,ch in enumerate(['a','c','t']) if ch == c])"
   ]
  },
  {
   "cell_type": "markdown",
   "metadata": {},
   "source": [
    "I did the above by using the enumerate. How does this work? The ``enumerate(iterable, start=0)`` function return a so-called enumerate object. Iterable must be a sequence, an iterator, or some other object which supports iteration. The built-in ``__next__()`` method of the iterator returned by enumerate() returns a tuple containing a count (from start which defaults to 0) and the values obtained from iterating over iterable. Look at the following code snippet for an example! "
   ]
  },
  {
   "cell_type": "code",
   "execution_count": 130,
   "metadata": {},
   "outputs": [
    {
     "name": "stdout",
     "output_type": "stream",
     "text": [
      "[(0, 'Spring'), (1, 'Summer'), (2, 'Fall'), (3, 'Winter')]\n",
      "[(1, 'Spring'), (2, 'Summer'), (3, 'Fall'), (4, 'Winter')]\n"
     ]
    }
   ],
   "source": [
    "seasons = ['Spring', 'Summer', 'Fall', 'Winter']\n",
    "print(list(enumerate(seasons)))\n",
    "print(list(enumerate(seasons, start=1)))"
   ]
  },
  {
   "cell_type": "code",
   "execution_count": 131,
   "metadata": {},
   "outputs": [
    {
     "data": {
      "text/plain": [
       "[20, 11, 12, 6, 1, 7]"
      ]
     },
     "execution_count": 131,
     "metadata": {},
     "output_type": "execute_result"
    }
   ],
   "source": [
    "# Now let's encode the string  \"fontys\" in such a way that each character is encoded with the reverse number of the \n",
    "# alphabet: a=26, z=1; you should get:\n",
    "# array([20, 11, 12,  6,  1,  7])\n",
    "string ='fontys'\n",
    "\n",
    "[26 - (ord(x) - 96) for x in string]"
   ]
  },
  {
   "cell_type": "code",
   "execution_count": 132,
   "metadata": {},
   "outputs": [
    {
     "data": {
      "text/plain": [
       "array([ 1.,  2.,  3.])"
      ]
     },
     "execution_count": 132,
     "metadata": {},
     "output_type": "execute_result"
    }
   ],
   "source": [
    "# That was a nice recap of last weeks's exercises\n",
    "# Usually we will work with arrays of floats and we can pass the data type upon creation:\n",
    "np.array([1,2,3], dtype = float)\n",
    "\n",
    "# Or just np.array([1,2,3], float) "
   ]
  },
  {
   "cell_type": "code",
   "execution_count": 133,
   "metadata": {},
   "outputs": [
    {
     "data": {
      "text/plain": [
       "array([[1, 2, 3],\n",
       "       [3, 2, 1]])"
      ]
     },
     "execution_count": 133,
     "metadata": {},
     "output_type": "execute_result"
    }
   ],
   "source": [
    "# In sklearn we will often work with multi-dimensional arrays (matrices); create the array ([1,2,3],[3,2,1])\n",
    "np.array([[1,2,3],[3,2,1]])"
   ]
  },
  {
   "cell_type": "code",
   "execution_count": 134,
   "metadata": {},
   "outputs": [
    {
     "data": {
      "text/plain": [
       "array([list([1, 2, 3]), list([2, 1])], dtype=object)"
      ]
     },
     "execution_count": 134,
     "metadata": {},
     "output_type": "execute_result"
    }
   ],
   "source": [
    "# What happens if the rows are not of equal size;\n",
    "import numpy as np\n",
    "\n",
    "np.array([[1,2,3],[2,1]])"
   ]
  },
  {
   "cell_type": "code",
   "execution_count": 135,
   "metadata": {},
   "outputs": [
    {
     "data": {
      "text/plain": [
       "array([list([1, 2, 3]), list([2, 1])], dtype=object)"
      ]
     },
     "execution_count": 135,
     "metadata": {},
     "output_type": "execute_result"
    }
   ],
   "source": [
    "# You just created a  2 x 3 array. How can you create the mirrored 2 x 3 array of the original data?\n",
    "# Use np.transpose\n",
    "Out[16].transpose()"
   ]
  },
  {
   "cell_type": "code",
   "execution_count": 136,
   "metadata": {},
   "outputs": [
    {
     "data": {
      "text/plain": [
       "array([list([1, 2, 3]), list([2, 1])], dtype=object)"
      ]
     },
     "execution_count": 136,
     "metadata": {},
     "output_type": "execute_result"
    }
   ],
   "source": [
    "# or even easier: use the .T attribute\n",
    "Out[16].T"
   ]
  },
  {
   "cell_type": "code",
   "execution_count": 137,
   "metadata": {},
   "outputs": [
    {
     "name": "stdout",
     "output_type": "stream",
     "text": [
      "(2, 3) 2 6\n"
     ]
    }
   ],
   "source": [
    "# Each array has a number of properties\n",
    "# We will often use shape, ndim (number of dimensions) and size (number of elements) properties\n",
    "# get shape, ndim and size of the array below\n",
    "M = np.array([[1,2,3],[3,2,1]])\n",
    "print(M.shape, M.ndim, M.size)"
   ]
  },
  {
   "cell_type": "code",
   "execution_count": 138,
   "metadata": {},
   "outputs": [
    {
     "data": {
      "text/plain": [
       "True"
      ]
     },
     "execution_count": 138,
     "metadata": {},
     "output_type": "execute_result"
    }
   ],
   "source": [
    "# The number of dimensions is equal to the number of elements in the shape vector.\n",
    "# The array size is equal to the product of the shape elements\n",
    "# Proof both:\n",
    "sz = 1\n",
    "for i in range(len(M.shape)):\n",
    "    sz *= M.shape[i]\n",
    "M.size == sz and len(M.shape) == M.ndim"
   ]
  },
  {
   "cell_type": "code",
   "execution_count": 139,
   "metadata": {},
   "outputs": [
    {
     "data": {
      "text/plain": [
       "6"
      ]
     },
     "execution_count": 139,
     "metadata": {},
     "output_type": "execute_result"
    }
   ],
   "source": [
    "# Although a.size is only a short tuple, it is common to write for loops as above with a reduce (it's the same reduce \n",
    "# from the map/reduce algorithm)\n",
    "# Import the reduce from itertools and combine with a lambda to rewrite above for loop\n",
    "from functools import reduce\n",
    "reduce(lambda x, y: x * y, M.shape)"
   ]
  },
  {
   "cell_type": "code",
   "execution_count": 140,
   "metadata": {},
   "outputs": [
    {
     "name": "stdout",
     "output_type": "stream",
     "text": [
      "['MappingProxyType', 'RLock', 'WRAPPER_ASSIGNMENTS', 'WRAPPER_UPDATES', 'WeakKeyDictionary', '_CacheInfo', '_HashedSeq', '__all__', '__builtins__', '__cached__', '__doc__', '__file__', '__loader__', '__name__', '__package__', '__spec__', '_c3_merge', '_c3_mro', '_compose_mro', '_convert', '_find_impl', '_ge_from_gt', '_ge_from_le', '_ge_from_lt', '_gt_from_ge', '_gt_from_le', '_gt_from_lt', '_le_from_ge', '_le_from_gt', '_le_from_lt', '_lru_cache_wrapper', '_lt_from_ge', '_lt_from_gt', '_lt_from_le', '_make_key', 'cmp_to_key', 'get_cache_token', 'lru_cache', 'namedtuple', 'partial', 'partialmethod', 'recursive_repr', 'reduce', 'singledispatch', 'total_ordering', 'update_wrapper', 'wraps']\n"
     ]
    }
   ],
   "source": [
    "# Want to know what other goodies are stuffed in the functools module? (first you have to import the complete module)\n",
    "import functools\n",
    "print(dir(functools))"
   ]
  },
  {
   "cell_type": "code",
   "execution_count": 141,
   "metadata": {},
   "outputs": [
    {
     "name": "stdout",
     "output_type": "stream",
     "text": [
      "Help on built-in function reduce in module _functools:\n",
      "\n",
      "reduce(...)\n",
      "    reduce(function, sequence[, initial]) -> value\n",
      "    \n",
      "    Apply a function of two arguments cumulatively to the items of a sequence,\n",
      "    from left to right, so as to reduce the sequence to a single value.\n",
      "    For example, reduce(lambda x, y: x+y, [1, 2, 3, 4, 5]) calculates\n",
      "    ((((1+2)+3)+4)+5).  If initial is present, it is placed before the items\n",
      "    of the sequence in the calculation, and serves as a default when the\n",
      "    sequence is empty.\n",
      "\n"
     ]
    }
   ],
   "source": [
    "# Want to know specifically about reduce():\n",
    "help(functools.reduce)"
   ]
  },
  {
   "cell_type": "code",
   "execution_count": 142,
   "metadata": {
    "collapsed": true
   },
   "outputs": [],
   "source": [
    "# You can also use the magic command ? Now help is directed to a separate window, called the pager\n",
    "# Btw, we can use reduce without the functools qualifier as we've imported it directly into our namespace\n",
    "?reduce"
   ]
  },
  {
   "cell_type": "code",
   "execution_count": 143,
   "metadata": {},
   "outputs": [
    {
     "data": {
      "text/plain": [
       "True"
      ]
     },
     "execution_count": 143,
     "metadata": {},
     "output_type": "execute_result"
    }
   ],
   "source": [
    "# You can avoid the lambda by using straight operator reduction\n",
    "# Import the mul (multiply) operator from the operator module\n",
    "from operator import mul\n",
    "reduce(mul, M.shape) == M.size and len(M.shape) == M.ndim"
   ]
  },
  {
   "cell_type": "code",
   "execution_count": 144,
   "metadata": {},
   "outputs": [
    {
     "name": "stdout",
     "output_type": "stream",
     "text": [
      "309 ns ± 13.9 ns per loop (mean ± std. dev. of 7 runs, 1000000 loops each)\n",
      "226 ns ± 8.59 ns per loop (mean ± std. dev. of 7 runs, 1000000 loops each)\n"
     ]
    }
   ],
   "source": [
    "# use #timeit to compare performance of lambda versus operator.mul\n",
    "%timeit reduce(lambda x, y: x * y, M.shape)\n",
    "%timeit reduce(mul, M.shape)"
   ]
  },
  {
   "cell_type": "markdown",
   "metadata": {},
   "source": [
    "#### Automatic Array Creation"
   ]
  },
  {
   "cell_type": "code",
   "execution_count": 145,
   "metadata": {},
   "outputs": [
    {
     "data": {
      "text/plain": [
       "array([ 0.,  0.,  0.,  0.,  0.,  0.])"
      ]
     },
     "execution_count": 145,
     "metadata": {},
     "output_type": "execute_result"
    }
   ],
   "source": [
    "# Use np.zeros to create an array of 0's\n",
    "np.zeros(6)"
   ]
  },
  {
   "cell_type": "code",
   "execution_count": 146,
   "metadata": {},
   "outputs": [
    {
     "data": {
      "text/plain": [
       "array([[ 0.,  0.],\n",
       "       [ 0.,  0.],\n",
       "       [ 0.,  0.]])"
      ]
     },
     "execution_count": 146,
     "metadata": {},
     "output_type": "execute_result"
    }
   ],
   "source": [
    "# You can morph to a required shape in the same constructor:\n",
    "np.zeros((3,2))    # parenthesis are required as zeros() can have more params. See ?np.zeros"
   ]
  },
  {
   "cell_type": "code",
   "execution_count": 147,
   "metadata": {},
   "outputs": [
    {
     "data": {
      "text/plain": [
       "array([ 1.,  1.,  1.,  1.,  1.])"
      ]
     },
     "execution_count": 147,
     "metadata": {},
     "output_type": "execute_result"
    }
   ],
   "source": [
    "# Use np.ones to create an array of 1's\n",
    "np.ones(5)"
   ]
  },
  {
   "cell_type": "code",
   "execution_count": 148,
   "metadata": {},
   "outputs": [
    {
     "data": {
      "text/plain": [
       "array([0, 1, 2, 3, 4, 5, 6, 7, 8, 9])"
      ]
     },
     "execution_count": 148,
     "metadata": {},
     "output_type": "execute_result"
    }
   ],
   "source": [
    "# np.arange can be used to create an array from a range\n",
    "# create array([0, 1, 2, 3, 4, 5, 6, 7, 8, 9]) using arange()\n",
    "np.arange(10)"
   ]
  },
  {
   "cell_type": "code",
   "execution_count": 149,
   "metadata": {},
   "outputs": [
    {
     "data": {
      "text/plain": [
       "array([ 0. ,  0.1,  0.2,  0.3,  0.4,  0.5,  0.6,  0.7,  0.8,  0.9])"
      ]
     },
     "execution_count": 149,
     "metadata": {},
     "output_type": "execute_result"
    }
   ],
   "source": [
    "# With arange() you can use the same parameters as with range():\n",
    "np.arange(0, 1, 0.1)"
   ]
  },
  {
   "cell_type": "code",
   "execution_count": 150,
   "metadata": {},
   "outputs": [
    {
     "data": {
      "text/plain": [
       "array([ 1. ,  1.1,  1.2,  1.3,  1.4,  1.5,  1.6,  1.7,  1.8,  1.9,  2. ])"
      ]
     },
     "execution_count": 150,
     "metadata": {},
     "output_type": "execute_result"
    }
   ],
   "source": [
    "# Use np.linspace tocreate arrays with a specified number of elements, spaced equally between specified beginning and \n",
    "# end values\n",
    "# Create array([1. ,  1.1,  1.2,  1.3,  1.4,  1.5,  1.6,  1.7,  1.8,  1.9,  2. ])\n",
    "np.linspace(1., 2., 11)"
   ]
  },
  {
   "cell_type": "code",
   "execution_count": 151,
   "metadata": {},
   "outputs": [
    {
     "data": {
      "text/plain": [
       "array([ 1.        ,  1.24884887,  1.5596235 ,  1.94773404,  2.43242545,\n",
       "        3.03773178,  3.79366789,  4.73771786,  5.91669359,  7.3890561 ])"
      ]
     },
     "execution_count": 151,
     "metadata": {},
     "output_type": "execute_result"
    }
   ],
   "source": [
    "# You can use logscale() to generate evenly spaced numbers on a log scale; see ?np.logspace\n",
    "from math import e\n",
    "np.logspace(0, 2, 10, base=e)"
   ]
  },
  {
   "cell_type": "code",
   "execution_count": 152,
   "metadata": {},
   "outputs": [
    {
     "data": {
      "image/png": "[encoded data removed]",
      "text/plain": [
       "<matplotlib.figure.Figure at 0x7ff16ec4cf28>"
      ]
     },
     "metadata": {},
     "output_type": "display_data"
    }
   ],
   "source": [
    "# Try to plot np.linspace(0., 20., 10) and  np.logspace(0, 3, 10, base=e) in a plot using matplotlib\n",
    "# New? Didn't you already learn this in visualization ...\n",
    "%matplotlib inline\n",
    "import matplotlib.pyplot as plt\n",
    "plt.plot(range(10), np.logspace(0, 3, 10, base=e), label='log')\n",
    "plt.plot(range(10), np.linspace(0, 20, 10), label='linear')\n",
    "plt.legend(loc='best')\n",
    "plt.show()"
   ]
  },
  {
   "cell_type": "code",
   "execution_count": 153,
   "metadata": {},
   "outputs": [
    {
     "data": {
      "text/plain": [
       "3.7200759760208555e-44"
      ]
     },
     "execution_count": 153,
     "metadata": {},
     "output_type": "execute_result"
    }
   ],
   "source": [
    "e**-100"
   ]
  },
  {
   "cell_type": "code",
   "execution_count": 154,
   "metadata": {},
   "outputs": [
    {
     "data": {
      "text/plain": [
       "array([[ 0.76821201,  0.12441924,  0.1288419 ],\n",
       "       [ 0.56664655,  0.55910396,  0.08933326]])"
      ]
     },
     "execution_count": 154,
     "metadata": {},
     "output_type": "execute_result"
    }
   ],
   "source": [
    "# For test data in sklearn, we wil often use randomly created data\n",
    "# Create a 2x3 array of random data between 0 and 1\n",
    "np.random.rand(2, 3)"
   ]
  },
  {
   "cell_type": "code",
   "execution_count": 155,
   "metadata": {},
   "outputs": [
    {
     "data": {
      "text/plain": [
       "array([  5.21813577,   6.78228875,   9.53266517,  10.11017911,\n",
       "         5.64054422,   9.50695265,   5.95925933,   5.98250321,\n",
       "         9.06763898,   7.51644278,   9.59464547,   8.99561416,\n",
       "        10.39935794,   5.49541799,   3.8800553 ,   7.32332564,\n",
       "         4.28475915,   8.70767698,   4.90919446,   8.72789458,\n",
       "         3.58437639,   6.70367678,   3.72267535,   9.85096899])"
      ]
     },
     "execution_count": 155,
     "metadata": {},
     "output_type": "execute_result"
    }
   ],
   "source": [
    "# There are many ways to draw random numbers.\n",
    "# Draw 24 random numbers from a normalized distribution with mean 6.75 and stddev 2\n",
    "# This could be used to simulate class grades ...\n",
    "np.random.normal(6.75, 2, 24)"
   ]
  },
  {
   "cell_type": "markdown",
   "metadata": {},
   "source": [
    "#### Importing data from CSV files\n",
    "Often, extracting and cleaning data is executed in a separate process. It is the process you learn all about in the Getting and Cleaning Data course. Often, the result of this process is a CSV file, that can be used for further analysis with, for instance pandas or sklearn. Numpy has dedicated facilities to read data from a CSV file into an array."
   ]
  },
  {
   "cell_type": "code",
   "execution_count": 156,
   "metadata": {
    "scrolled": true
   },
   "outputs": [
    {
     "data": {
      "text/plain": [
       "array([[   nan,    nan],\n",
       "       [  1.  ,   0.99],\n",
       "       [  2.  ,   1.99],\n",
       "       [  3.  ,   2.99],\n",
       "       [  4.  ,   3.99],\n",
       "       [  5.  ,   4.99],\n",
       "       [  6.  ,   5.99],\n",
       "       [  7.  ,   6.99],\n",
       "       [  8.  ,   7.99],\n",
       "       [  9.  ,   8.99],\n",
       "       [ 10.  ,   9.99],\n",
       "       [ 11.  ,  10.99]])"
      ]
     },
     "execution_count": 156,
     "metadata": {},
     "output_type": "execute_result"
    }
   ],
   "source": [
    "# read the contents of data.csv into a NumPy('data.csv', delimiter=';')\n",
    "np.genfromtxt('data.csv', delimiter=';')"
   ]
  },
  {
   "cell_type": "code",
   "execution_count": 157,
   "metadata": {},
   "outputs": [
    {
     "data": {
      "text/plain": [
       "array([[ 1.  ,  0.99],\n",
       "       [ 2.  ,  1.99]])"
      ]
     },
     "execution_count": 157,
     "metadata": {},
     "output_type": "execute_result"
    }
   ],
   "source": [
    "# The header row is convenient when using labeled columns in pandas, but here we want to ignore it.\n",
    "# Remove the header row and show only the first two rows\n",
    "_[1:3]"
   ]
  },
  {
   "cell_type": "markdown",
   "metadata": {},
   "source": [
    "#### Indexing, Slicing and Masking"
   ]
  },
  {
   "cell_type": "code",
   "execution_count": 158,
   "metadata": {},
   "outputs": [
    {
     "name": "stdout",
     "output_type": "stream",
     "text": [
      "[[ 0  1  2  3]\n",
      " [ 4  5  6  7]\n",
      " [ 8  9 10 11]]\n"
     ]
    },
    {
     "data": {
      "text/plain": [
       "array([0, 1, 2, 3])"
      ]
     },
     "execution_count": 158,
     "metadata": {},
     "output_type": "execute_result"
    }
   ],
   "source": [
    "# Get the first row from matrix M: array([[ 0,  1,  2,  3], [ 4,  5,  6,  7], [ 8,  9, 10, 11]])\n",
    "M = np.arange(12).reshape(3,4)\n",
    "print(M)\n",
    "M[0]"
   ]
  },
  {
   "cell_type": "code",
   "execution_count": 159,
   "metadata": {},
   "outputs": [
    {
     "data": {
      "text/plain": [
       "1"
      ]
     },
     "execution_count": 159,
     "metadata": {},
     "output_type": "execute_result"
    }
   ],
   "source": [
    "# Get the second column from M\n",
    "_[1]"
   ]
  },
  {
   "cell_type": "code",
   "execution_count": 160,
   "metadata": {},
   "outputs": [
    {
     "data": {
      "text/plain": [
       "True"
      ]
     },
     "execution_count": 160,
     "metadata": {},
     "output_type": "execute_result"
    }
   ],
   "source": [
    "# We already used the reshape method to change an array's shape\n",
    "# You can also do this using an np.newaxis object in a slice tuple:\n",
    "a = np.arange(12)\n",
    "a.reshape(12,1).shape == a[:,np.newaxis].shape"
   ]
  },
  {
   "cell_type": "code",
   "execution_count": 161,
   "metadata": {},
   "outputs": [
    {
     "data": {
      "text/plain": [
       "array([0, 2, 4, 6, 8])"
      ]
     },
     "execution_count": 161,
     "metadata": {},
     "output_type": "execute_result"
    }
   ],
   "source": [
    "# You can use a boolean expression on an array to mask elements from that array\n",
    "a = np.arange(10)\n",
    "a[a % 2 == 0]"
   ]
  },
  {
   "cell_type": "code",
   "execution_count": 164,
   "metadata": {},
   "outputs": [
    {
     "data": {
      "text/plain": [
       "array([0, 0, 1, 1, 2, 2, 3, 3, 4, 4])"
      ]
     },
     "execution_count": 164,
     "metadata": {},
     "output_type": "execute_result"
    }
   ],
   "source": [
    "# Divide all even numbers in an array by 2\n",
    "a = np.arange(10)\n",
    "\n",
    "# Use integer division (//) if you want to maintain the integer data type:\n",
    "a[a//2]"
   ]
  },
  {
   "cell_type": "code",
   "execution_count": 165,
   "metadata": {},
   "outputs": [
    {
     "data": {
      "text/plain": [
       "array([[ 1. ,  0.5,  1. ],\n",
       "       [ 1. ,  0.5,  1. ]])"
      ]
     },
     "execution_count": 165,
     "metadata": {},
     "output_type": "execute_result"
    }
   ],
   "source": [
    "# Divide all elements from the second column of a 2x3 matrix by 2\n",
    "a = np.ones(6).reshape(2,3)\n",
    "a[:,1] /= 2\n",
    "a"
   ]
  },
  {
   "cell_type": "code",
   "execution_count": 174,
   "metadata": {},
   "outputs": [
    {
     "data": {
      "text/plain": [
       "array([[2, 1],\n",
       "       [5, 4],\n",
       "       [6, 5]])"
      ]
     },
     "execution_count": 174,
     "metadata": {},
     "output_type": "execute_result"
    }
   ],
   "source": [
    "# Strip the last value from each row in a 2-dim array (for instance a calculated row total)\n",
    "a = np.array([[1,2,3],[4,5,9],[5,6,11]])\n",
    "# now strip the last value from each row\n",
    "a[::,1::-1]"
   ]
  },
  {
   "cell_type": "markdown",
   "metadata": {},
   "source": [
    "There are a lot of indexing and slicing techniques in NumPy that can save you of lot of programming in preparing your data for any machine learning algorithm. Consult the [chapter on indexing in the NumPy tutorial](http://docs.scipy.org/doc/numpy/user/basics.indexing.html) to get a fairly complete list of various techniques."
   ]
  },
  {
   "cell_type": "markdown",
   "metadata": {},
   "source": [
    "#### Simple Array Operations"
   ]
  },
  {
   "cell_type": "code",
   "execution_count": 175,
   "metadata": {},
   "outputs": [
    {
     "name": "stdout",
     "output_type": "stream",
     "text": [
      "[1 2 3]\n",
      "[3 3 3]\n",
      "[4 5 6]\n",
      "[4 5 6]\n"
     ]
    },
    {
     "data": {
      "text/plain": [
       "array([ True,  True,  True], dtype=bool)"
      ]
     },
     "execution_count": 175,
     "metadata": {},
     "output_type": "execute_result"
    }
   ],
   "source": [
    "# Given a = array(1,2,3) and b = array(3,3,3), verify that a+b is equal to a+3\n",
    "a = np.arange(1,4)\n",
    "print(a)\n",
    "b = np.array([3] * 3)\n",
    "print(b)\n",
    "print(a + b)\n",
    "print(a + 3)\n",
    "a + b == a + 3"
   ]
  },
  {
   "cell_type": "code",
   "execution_count": 176,
   "metadata": {},
   "outputs": [
    {
     "data": {
      "text/plain": [
       "True"
      ]
     },
     "execution_count": 176,
     "metadata": {},
     "output_type": "execute_result"
    }
   ],
   "source": [
    "# or:\n",
    "np.all(a + b == a + 3)"
   ]
  },
  {
   "cell_type": "code",
   "execution_count": 177,
   "metadata": {},
   "outputs": [
    {
     "name": "stdout",
     "output_type": "stream",
     "text": [
      "2\n",
      "2\n",
      "2\n"
     ]
    }
   ],
   "source": [
    "# Get the number of elements larger than 1 from array a\n",
    "print(a[a > 1].size)\n",
    "# a bit slower:\n",
    "print(len(a[a > 1]))\n",
    "# much slower (test with %timeit):\n",
    "print(sum(a > 1))"
   ]
  },
  {
   "cell_type": "code",
   "execution_count": 185,
   "metadata": {
    "scrolled": true
   },
   "outputs": [
    {
     "data": {
      "text/plain": [
       "2"
      ]
     },
     "execution_count": 185,
     "metadata": {},
     "output_type": "execute_result"
    }
   ],
   "source": [
    "# Considering the result of previous question, how would you count the nr of elements > 5 in a*b\n",
    "c = a*b\n",
    "c[c>5].size"
   ]
  },
  {
   "cell_type": "code",
   "execution_count": 187,
   "metadata": {},
   "outputs": [
    {
     "data": {
      "text/plain": [
       "2"
      ]
     },
     "execution_count": 187,
     "metadata": {},
     "output_type": "execute_result"
    }
   ],
   "source": [
    "# And how would you count the number of elements in b that are larger than their counterpart in a\n",
    "b[b > a].size"
   ]
  },
  {
   "cell_type": "code",
   "execution_count": 188,
   "metadata": {},
   "outputs": [
    {
     "data": {
      "text/plain": [
       "array([[1, 4],\n",
       "       [2, 5],\n",
       "       [3, 6]])"
      ]
     },
     "execution_count": 188,
     "metadata": {},
     "output_type": "execute_result"
    }
   ],
   "source": [
    "# Transpose  3 by 2 array((1,2,3), (4,5,6) to 2 by 3 array((1,4), (2,5), (3,6))\n",
    "# In numpy we have a proper transpose function\n",
    "np.transpose(np.arange(1,7).reshape(2,3))"
   ]
  },
  {
   "cell_type": "code",
   "execution_count": 190,
   "metadata": {},
   "outputs": [
    {
     "data": {
      "text/plain": [
       "array([[1, 4],\n",
       "       [2, 5],\n",
       "       [3, 6]])"
      ]
     },
     "execution_count": 190,
     "metadata": {},
     "output_type": "execute_result"
    }
   ],
   "source": [
    "# or, using the T attribute:\n",
    "np.arange(1, 7).reshape(2,3).T"
   ]
  },
  {
   "cell_type": "code",
   "execution_count": 191,
   "metadata": {},
   "outputs": [
    {
     "data": {
      "text/plain": [
       "array([[1, 2],\n",
       "       [3, 4],\n",
       "       [5, 6]])"
      ]
     },
     "execution_count": 191,
     "metadata": {},
     "output_type": "execute_result"
    }
   ],
   "source": [
    "# note this is not the same as:\n",
    "np.arange(1,7).reshape(2,3).reshape(3,2)"
   ]
  },
  {
   "cell_type": "code",
   "execution_count": null,
   "metadata": {},
   "outputs": [],
   "source": [
    "# Typical sklearn problem: \n",
    "# Change [['M', 'S', 'B'], ['geel', 'rood', 'rood']] to array((1,3,4,2), (4,2,3,3)), where the values of both lists \n",
    "# are looked up in lists ['B', 'M', 'S', 'T']  and ['blauw', 'geel', 'groen', 'oranje', 'rood']\n",
    "# so, your result should be:\n",
    "# array([[1, 2, 0],\n",
    "#       [1, 4, 4]])\n",
    "l1 = ['M', 'S', 'B']\n",
    "l2 = ['geel', 'rood', 'rood']\n",
    "lu1 = ['B', 'M', 'S', 'T']\n",
    "lu2 = ['blauw', 'geel', 'groen', 'oranje', 'rood']\n"
   ]
  },
  {
   "cell_type": "code",
   "execution_count": 197,
   "metadata": {},
   "outputs": [
    {
     "name": "stdout",
     "output_type": "stream",
     "text": [
      "[ 6.86514314  7.62689208  5.56151807  6.19984077  6.05094827  6.00558676\n",
      "  9.46031816  4.4025917   6.63689993  7.28869183  6.86966705  7.417546\n",
      "  5.82143033  7.18210079  5.53168751  7.5101199   7.51715681  4.79893622\n",
      "  6.18124386  6.73106891]\n"
     ]
    },
    {
     "data": {
      "text/plain": [
       "2"
      ]
     },
     "execution_count": 197,
     "metadata": {},
     "output_type": "execute_result"
    }
   ],
   "source": [
    "# Count the number of fails in the randomly generated exam marks above\n",
    "a = np.random.normal(6.5, 1. , 20)\n",
    "print(a)\n",
    "# now create the count expression\n",
    "a[a <5.5].size"
   ]
  },
  {
   "cell_type": "code",
   "execution_count": 195,
   "metadata": {},
   "outputs": [
    {
     "data": {
      "text/plain": [
       "array([[1, 2, 3],\n",
       "       [3, 4, 5]])"
      ]
     },
     "execution_count": 195,
     "metadata": {},
     "output_type": "execute_result"
    }
   ],
   "source": [
    "# Add column array(3,5) to array((1, 2), (3, 4)) to form array((1, 2, 3), (3, 4, 5))\n",
    "# Use np.append, read carefully and think hard\n",
    "# Try some variations yourself\n",
    "a = np.arange(1,5).reshape(2,2)\n",
    "np.append(a, [[3],[5]], axis=1)"
   ]
  },
  {
   "cell_type": "code",
   "execution_count": 198,
   "metadata": {},
   "outputs": [
    {
     "data": {
      "text/plain": [
       "array([[ 1.,  2.,  3.,  0.],\n",
       "       [ 4.,  5.,  6.,  0.],\n",
       "       [ 7.,  8.,  9.,  0.]])"
      ]
     },
     "execution_count": 198,
     "metadata": {},
     "output_type": "execute_result"
    }
   ],
   "source": [
    "# A more generic solution for adding a column of zeroes to any matrix would be:\n",
    "nrRows = 3\n",
    "a = np.arange(1,10).reshape(nrRows, nrRows)\n",
    "# Using list comprehension to morph the column to add in its required form\n",
    "np.append(a, [[n] for n in [0]*nrRows], axis = 1)\n",
    "# Or using np.zeros (careful with the parameters: first param is a tuple)\n",
    "np.append(a, np.zeros((nrRows,1)), axis=1)"
   ]
  },
  {
   "cell_type": "code",
   "execution_count": 199,
   "metadata": {},
   "outputs": [
    {
     "data": {
      "text/plain": [
       "array([[ 1.,  2.,  3.,  0.],\n",
       "       [ 4.,  5.,  6.,  0.],\n",
       "       [ 7.,  8.,  9.,  0.]])"
      ]
     },
     "execution_count": 199,
     "metadata": {},
     "output_type": "execute_result"
    }
   ],
   "source": [
    "# or (study carefully):\n",
    "a = np.arange(1,10).reshape(3, 3)\n",
    "# You transpose, add a new row and then transpose back again\n",
    "np.append(a.T, np.zeros((1,3)), axis=0).T"
   ]
  },
  {
   "cell_type": "markdown",
   "metadata": {},
   "source": [
    "#### Vectorization"
   ]
  },
  {
   "cell_type": "markdown",
   "metadata": {},
   "source": [
    "We already saw some examples of vectorization: `a % 2` and `a + 3` are simple examples of NumPy's vectorization capabilities. The operator and the non-array operand are applied to all elements in the array.\n",
    "You can also vectorize your own functions over an array using `np.vectorize()`"
   ]
  },
  {
   "cell_type": "code",
   "execution_count": 200,
   "metadata": {},
   "outputs": [
    {
     "name": "stdout",
     "output_type": "stream",
     "text": [
      "[0 1 2 3 4] [5 4 3 2 1]\n"
     ]
    },
    {
     "data": {
      "text/plain": [
       "array([4, 3, 2, 1, 0])"
      ]
     },
     "execution_count": 200,
     "metadata": {},
     "output_type": "execute_result"
    }
   ],
   "source": [
    "a1 = np.arange(0, 5)\n",
    "a2 = np.arange(5, 0, -1)\n",
    "print(a1, a2)\n",
    "a1[4::-1]"
   ]
  },
  {
   "cell_type": "markdown",
   "metadata": {},
   "source": [
    "You can also apply this principle of vectorization to your functions. That is, you can vectorize you function over your NumPy array using np.vectorize"
   ]
  },
  {
   "cell_type": "code",
   "execution_count": 201,
   "metadata": {},
   "outputs": [
    {
     "data": {
      "text/plain": [
       "array([ 0,  6, 12, 18, 24, 30, 36, 42, 48, 54, 60, 66, 72, 78, 84, 90, 96])"
      ]
     },
     "execution_count": 201,
     "metadata": {},
     "output_type": "execute_result"
    }
   ],
   "source": [
    "def foo(x):\n",
    "    return x%2 == 0 and x%3 == 0\n",
    "\n",
    "a = np.arange(100)\n",
    "a[np.vectorize(foo)(a)]"
   ]
  },
  {
   "cell_type": "markdown",
   "metadata": {},
   "source": [
    "Look carefully at the previous construction: ``np.vectorize()`` returns a new function that is immediately called with the parameter a. This should look familiar to those of you having worked with JavaScript where you often apply a function immediately at definition. By using a lambda, you can also use an anonymous function for vectorization."
   ]
  },
  {
   "cell_type": "code",
   "execution_count": 202,
   "metadata": {},
   "outputs": [
    {
     "data": {
      "text/plain": [
       "array([ 0,  6, 12, 18, 24, 30, 36, 42, 48, 54, 60, 66, 72, 78, 84, 90, 96])"
      ]
     },
     "execution_count": 202,
     "metadata": {},
     "output_type": "execute_result"
    }
   ],
   "source": [
    "# create the same list using vectorization with a lambda\n",
    "a[np.vectorize(lambda x: x%2 == 0 and x%3 == 0)(a)]"
   ]
  },
  {
   "cell_type": "code",
   "execution_count": null,
   "metadata": {
    "collapsed": true
   },
   "outputs": [],
   "source": []
  }
 ],
 "metadata": {
  "kernelspec": {
   "display_name": "Python 3",
   "language": "python",
   "name": "python3"
  },
  "language_info": {
   "codemirror_mode": {
    "name": "ipython",
    "version": 3
   },
   "file_extension": ".py",
   "mimetype": "text/x-python",
   "name": "python",
   "nbconvert_exporter": "python",
   "pygments_lexer": "ipython3",
   "version": "3.6.2"
  }
 },
 "nbformat": 4,
 "nbformat_minor": 1
}
