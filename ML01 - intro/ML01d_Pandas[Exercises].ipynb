{
 "cells": [
  {
   "cell_type": "markdown",
   "metadata": {},
   "source": [
    "## Pandas Exercise Book"
   ]
  },
  {
   "cell_type": "markdown",
   "metadata": {},
   "source": [
    "#### Introduction\n",
    "[Pandas](http://pandas.pydata.org/) (python data analysis library) is built on NumPy. Pandas is built upon the data objects Series (indexed arrays) and DataFrames (full fledged tables) Many NumPy array indexing techniques can be used in the same way when indexing pandas arrays and series.\n",
    "\n",
    "In addition to many ways to slice, dice, filter and combine data in (mostly) DataFrames, pandas als offers some data analysis models for times series analysis and simple regression. The analysis functionality of pandas is especially suited  for business related problems where many predictions are time bound. We will not use pandas for modeling: we have opted for scikit-learn.\n",
    "\n",
    "Pandas is well suited to do initial data preparation on data that is to be analysed with scikit-learn models. For is, this is the main reason to familiarize ourselves with pandas. Sklearn models are defined on NumPy arrays, but since pandas DataFrames are based on NumPy arrays, pandas can be used effectively in sklearn. In most publicly available data machine learning Notebooks, either pandas or NumPy a combination of both is used to do the initial preparation.\n",
    "\n",
    "Pandas has a lot of functionality and can almost be viewed as a language on its own: a domain specifc language (DSL) or table based data analysis. Pandas offer excellent tools to get data from CSV, Excel and databases. It incorporates SQLAlchemy to emable SQL-like manipulation of DataFrames."
   ]
  },
  {
   "cell_type": "code",
   "execution_count": 2,
   "metadata": {
    "collapsed": true
   },
   "outputs": [],
   "source": [
    "import pandas as pd\n",
    "import numpy as np\n",
    "\n",
    "# Set some pandas options\n",
    "pd.set_option('display.notebook_repr_html', False)\n",
    "pd.set_option('display.max_columns', 5)\n",
    "pd.set_option('display.max_rows', 5)"
   ]
  },
  {
   "cell_type": "markdown",
   "metadata": {},
   "source": [
    "#### Creating pandas Series"
   ]
  },
  {
   "cell_type": "code",
   "execution_count": 3,
   "metadata": {},
   "outputs": [
    {
     "data": {
      "text/plain": [
       "0    10\n",
       "1    11\n",
       "     ..\n",
       "8    18\n",
       "9    19\n",
       "Length: 10, dtype: int64"
      ]
     },
     "execution_count": 3,
     "metadata": {},
     "output_type": "execute_result"
    }
   ],
   "source": [
    "# create a pandas Series for the number list [10..20)\n",
    "pd.Series(range(10, 20))"
   ]
  },
  {
   "cell_type": "code",
   "execution_count": 4,
   "metadata": {
    "scrolled": true
   },
   "outputs": [
    {
     "data": {
      "text/plain": [
       "0    10\n",
       "1    11\n",
       "     ..\n",
       "8    18\n",
       "9    19\n",
       "Length: 10, dtype: int64"
      ]
     },
     "execution_count": 4,
     "metadata": {},
     "output_type": "execute_result"
    }
   ],
   "source": [
    "# or\n",
    "pd.Series(np.arange(10, 20))"
   ]
  },
  {
   "cell_type": "code",
   "execution_count": 5,
   "metadata": {},
   "outputs": [
    {
     "data": {
      "text/plain": [
       "(RangeIndex(start=0, stop=10, step=1),\n",
       " Index(['a', 'b', 'c', 'd', 'e', 'f', 'g', 'h', 'i', 'j'], dtype='object'))"
      ]
     },
     "execution_count": 5,
     "metadata": {},
     "output_type": "execute_result"
    }
   ],
   "source": [
    "s1 = pd.Series(range(10, 20))\n",
    "s2 = pd.Series(range(10, 20), index=list('abcdefghij'))\n",
    "# get the index of both lists (index is list of labels: datatype is pandas index, not genuine list!)\n",
    "s1.index, s2.index"
   ]
  },
  {
   "cell_type": "code",
   "execution_count": 6,
   "metadata": {},
   "outputs": [
    {
     "data": {
      "text/plain": [
       "0    0.741906\n",
       "1    0.869848\n",
       "       ...   \n",
       "8    0.662565\n",
       "9    0.624080\n",
       "Length: 10, dtype: float64"
      ]
     },
     "execution_count": 6,
     "metadata": {},
     "output_type": "execute_result"
    }
   ],
   "source": [
    "# create a Series of 10 random numbers\n",
    "pd.Series(np.random.rand(10))"
   ]
  },
  {
   "cell_type": "code",
   "execution_count": 7,
   "metadata": {},
   "outputs": [
    {
     "data": {
      "text/plain": [
       "0     20.000000\n",
       "1     22.857143\n",
       "        ...    \n",
       "13    57.142857\n",
       "14    60.000000\n",
       "Length: 15, dtype: float64"
      ]
     },
     "execution_count": 7,
     "metadata": {},
     "output_type": "execute_result"
    }
   ],
   "source": [
    "# create a Series of 15 numbers equally spaced over the range [20..60]\n",
    "# remember linspace!\n",
    "pd.Series(np.linspace(20,60, 15))"
   ]
  },
  {
   "cell_type": "code",
   "execution_count": 8,
   "metadata": {},
   "outputs": [
    {
     "data": {
      "text/plain": [
       "a    0\n",
       "b    1\n",
       "    ..\n",
       "e    4\n",
       "f    5\n",
       "Length: 6, dtype: int64"
      ]
     },
     "execution_count": 8,
     "metadata": {},
     "output_type": "execute_result"
    }
   ],
   "source": [
    "# create a Series from a dict\n",
    "pd.Series({c: n for c,n in zip('abcdef', range(6))})"
   ]
  },
  {
   "cell_type": "code",
   "execution_count": 9,
   "metadata": {},
   "outputs": [
    {
     "data": {
      "text/plain": [
       "a    0\n",
       "b    1\n",
       "    ..\n",
       "e    4\n",
       "f    5\n",
       "Length: 6, dtype: int64"
      ]
     },
     "execution_count": 9,
     "metadata": {},
     "output_type": "execute_result"
    }
   ],
   "source": [
    "# this is the same as:\n",
    "pd.Series(range(6), index=list('abcdef'))\n",
    "# but why does this generate a smaller integer size???"
   ]
  },
  {
   "cell_type": "markdown",
   "metadata": {},
   "source": [
    "#### Getting and setting data from Series"
   ]
  },
  {
   "cell_type": "code",
   "execution_count": 10,
   "metadata": {},
   "outputs": [
    {
     "data": {
      "text/plain": [
       "13"
      ]
     },
     "execution_count": 10,
     "metadata": {},
     "output_type": "execute_result"
    }
   ],
   "source": [
    "s1 = pd.Series(range(10, 20))\n",
    "# get the value on array position 3 (value of 4th element). We often say: get value with label 3\n",
    "s1[3]"
   ]
  },
  {
   "cell_type": "code",
   "execution_count": 11,
   "metadata": {},
   "outputs": [
    {
     "data": {
      "text/plain": [
       "12"
      ]
     },
     "execution_count": 11,
     "metadata": {},
     "output_type": "execute_result"
    }
   ],
   "source": [
    "s2 = pd.Series(range(10, 20), index=list('abcdefghij'))\n",
    "# get value with label 'c'\n",
    "s2['c']"
   ]
  },
  {
   "cell_type": "code",
   "execution_count": 12,
   "metadata": {},
   "outputs": [
    {
     "data": {
      "text/plain": [
       "True"
      ]
     },
     "execution_count": 12,
     "metadata": {},
     "output_type": "execute_result"
    }
   ],
   "source": [
    "# show that you can also use a textual label as an attribute (s.label)\n",
    "s2['c'] == s2.c"
   ]
  },
  {
   "cell_type": "code",
   "execution_count": 13,
   "metadata": {},
   "outputs": [
    {
     "data": {
      "text/plain": [
       "True"
      ]
     },
     "execution_count": 13,
     "metadata": {},
     "output_type": "execute_result"
    }
   ],
   "source": [
    "# show that you can still use the default numerical labels\n",
    "s2[2] == s2.c"
   ]
  },
  {
   "cell_type": "code",
   "execution_count": 14,
   "metadata": {
    "collapsed": true
   },
   "outputs": [],
   "source": [
    "# but show that default labels are lost once you have passed an explicit numeric index\n",
    "s2 = pd.Series(range(10, 20), index=range(100, 110))\n",
    "# s2[0]  # throws key error: explain for yourself why\n",
    "# there is no 0'th element, only from 100 to 110"
   ]
  },
  {
   "cell_type": "code",
   "execution_count": 15,
   "metadata": {},
   "outputs": [
    {
     "data": {
      "text/plain": [
       "True"
      ]
     },
     "execution_count": 15,
     "metadata": {},
     "output_type": "execute_result"
    }
   ],
   "source": [
    "# to avoid this confusion explicit label lookup (loc) and deafult position lookup (iloc) have been defined:\n",
    "s2[101] == s2.loc[101] == s2.iloc[1]"
   ]
  },
  {
   "cell_type": "code",
   "execution_count": 16,
   "metadata": {},
   "outputs": [
    {
     "name": "stdout",
     "output_type": "stream",
     "text": [
      "0    10.0\n",
      "1     NaN\n",
      "     ... \n",
      "8    18.0\n",
      "9     NaN\n",
      "Length: 10, dtype: float64\n"
     ]
    }
   ],
   "source": [
    "s = pd.Series(range(10, 20))\n",
    "# set every second value in the series to NaN (Not a Number, NumPy's version of void or null')\n",
    "s[1::2] = np.nan\n",
    "\n",
    "print(s)"
   ]
  },
  {
   "cell_type": "markdown",
   "metadata": {},
   "source": [
    "#### Boolean selection (masking)"
   ]
  },
  {
   "cell_type": "code",
   "execution_count": 17,
   "metadata": {},
   "outputs": [
    {
     "data": {
      "text/plain": [
       "0    10\n",
       "2    12\n",
       "4    14\n",
       "6    16\n",
       "8    18\n",
       "dtype: int64"
      ]
     },
     "execution_count": 17,
     "metadata": {},
     "output_type": "execute_result"
    }
   ],
   "source": [
    "s = pd.Series(range(10, 20))\n",
    "# get rows with even values?\n",
    "s[s%2 == 0]"
   ]
  },
  {
   "cell_type": "code",
   "execution_count": 18,
   "metadata": {},
   "outputs": [
    {
     "data": {
      "text/plain": [
       "2    12\n",
       "8    18\n",
       "dtype: int64"
      ]
     },
     "execution_count": 18,
     "metadata": {},
     "output_type": "execute_result"
    }
   ],
   "source": [
    "# get rows that can be divided by 2 and by 3\n",
    "# use parenthesis and &, | and ~ as boolean operators: same as in NumPy\n",
    "s[(s%2 ==0) & (s%3 == 0 )]"
   ]
  },
  {
   "cell_type": "code",
   "execution_count": 19,
   "metadata": {},
   "outputs": [
    {
     "data": {
      "text/plain": [
       "0    10\n",
       "1    11\n",
       "     ..\n",
       "8    18\n",
       "9    19\n",
       "Length: 10, dtype: int64"
      ]
     },
     "execution_count": 19,
     "metadata": {},
     "output_type": "execute_result"
    }
   ],
   "source": [
    "# reindex s1 so as to have a decent index again\n",
    "s1.index = range(s1.size)\n",
    "s1"
   ]
  },
  {
   "cell_type": "code",
   "execution_count": 20,
   "metadata": {},
   "outputs": [
    {
     "data": {
      "text/plain": [
       "True"
      ]
     },
     "execution_count": 20,
     "metadata": {},
     "output_type": "execute_result"
    }
   ],
   "source": [
    "# you can also use predicates all() and any() in a way similar to their usage in SQL:\n",
    "s1 = s[(s%2 == 0) | (s%3 == 0)]\n",
    "((s1%2 == 0) | (s1%3 == 0)).all()  # true because we explictly set so"
   ]
  },
  {
   "cell_type": "code",
   "execution_count": 21,
   "metadata": {},
   "outputs": [
    {
     "data": {
      "text/plain": [
       "True"
      ]
     },
     "execution_count": 21,
     "metadata": {},
     "output_type": "execute_result"
    }
   ],
   "source": [
    "# or\n",
    "np.all((s1%2 == 0) | (s1%3 == 0))"
   ]
  },
  {
   "cell_type": "markdown",
   "metadata": {},
   "source": [
    "There's a lot more to Series. Consult the online documentation if you run into an unknown construction in some of the code you are studying."
   ]
  },
  {
   "cell_type": "markdown",
   "metadata": {},
   "source": [
    "#### Creating pandas DataFrames\n",
    "DataFrames are 2 dimensional arrays with row and column labels. You can construct them from any 2 dimensional structure you might expect."
   ]
  },
  {
   "cell_type": "code",
   "execution_count": 22,
   "metadata": {
    "scrolled": true
   },
   "outputs": [
    {
     "data": {
      "text/plain": [
       "   0  1\n",
       "0  1  2\n",
       "1  3  4"
      ]
     },
     "execution_count": 22,
     "metadata": {},
     "output_type": "execute_result"
    }
   ],
   "source": [
    "# construct from list\n",
    "pd.DataFrame([[1,2], [3,4]])"
   ]
  },
  {
   "cell_type": "code",
   "execution_count": 23,
   "metadata": {},
   "outputs": [
    {
     "data": {
      "text/plain": [
       "   0  1\n",
       "0  1  2\n",
       "1  3  4"
      ]
     },
     "execution_count": 23,
     "metadata": {},
     "output_type": "execute_result"
    }
   ],
   "source": [
    "# construct from 2 dim NumPy array\n",
    "pd.DataFrame(np.array([[1,2], [3,4]]))"
   ]
  },
  {
   "cell_type": "code",
   "execution_count": 24,
   "metadata": {},
   "outputs": [
    {
     "data": {
      "text/plain": [
       "    0   1   2   3   4\n",
       "0   0   1   2   3   4\n",
       "1  10  11  12  13  14"
      ]
     },
     "execution_count": 24,
     "metadata": {},
     "output_type": "execute_result"
    }
   ],
   "source": [
    "# construct from Series; Series should be equal sized; each Series will be a row\n",
    "pd.DataFrame([pd.Series(range(5)), pd.Series(range(10,15))])"
   ]
  },
  {
   "cell_type": "code",
   "execution_count": 25,
   "metadata": {},
   "outputs": [
    {
     "data": {
      "text/plain": [
       "          a         b         c         d\n",
       "0  0.794434  0.731992  0.653955  0.150593\n",
       "1  0.648450  0.698706  0.855539  0.081923\n",
       "2  0.583578  0.366928  0.617289  0.513825"
      ]
     },
     "execution_count": 25,
     "metadata": {},
     "output_type": "execute_result"
    }
   ],
   "source": [
    "# yet another variant\n",
    "pd.DataFrame(np.array(np.random.rand(12)).reshape(3,4), columns = list('abcd'))"
   ]
  },
  {
   "cell_type": "code",
   "execution_count": 26,
   "metadata": {},
   "outputs": [
    {
     "data": {
      "text/plain": [
       "      y     x\n",
       "2014  1   aap\n",
       "2015  2  noot"
      ]
     },
     "execution_count": 26,
     "metadata": {},
     "output_type": "execute_result"
    }
   ],
   "source": [
    "# create the dataframe\n",
    "#           y     x\n",
    "#     2014  1   aap\n",
    "#     2015  2  noot\n",
    "# from the Python dict data. \n",
    "data = {'y': [1,2], 'x':[\"aap\", \"noot\"]}\n",
    "pd.DataFrame(data, index=[2014, 2015], columns=['y', 'x'])"
   ]
  },
  {
   "cell_type": "code",
   "execution_count": 27,
   "metadata": {
    "scrolled": false
   },
   "outputs": [
    {
     "data": {
      "text/plain": [
       "           Ajax  Feyenoord  PSV\n",
       "Ajax        NaN        3.0  1.0\n",
       "Feyenoord   1.0        NaN  3.0\n",
       "PSV         1.0        2.0  NaN"
      ]
     },
     "execution_count": 27,
     "metadata": {},
     "output_type": "execute_result"
    }
   ],
   "source": [
    "# what about this one:\n",
    "clubs = ['Ajax', 'Feyenoord', 'PSV']\n",
    "m = len(clubs)\n",
    "df_competition = pd.DataFrame(np.array(np.random.randint(1,4,9)).reshape(m,m), columns=clubs, index=clubs)\n",
    "for i in range(m):\n",
    "    df_competition.iloc[i,i] = np.nan   # you could also use iat[] which is faster but less widely used\n",
    "    \n",
    "df_competition\n",
    "\n",
    "# df_competition[c1,c2] is the number of points for c1 in their (home) match against c2\n",
    "# can you find a random seed that makes PSV champion\n",
    "# or, quite challenging, can you create code to generate the final competiton table (\"eindstand\", nr of points for each club)"
   ]
  },
  {
   "cell_type": "code",
   "execution_count": 28,
   "metadata": {},
   "outputs": [
    {
     "data": {
      "text/plain": [
       "           Ajax  Feyenoord  PSV\n",
       "Ajax        NaN        3.0  2.0\n",
       "Feyenoord   2.0        NaN  2.0\n",
       "PSV         1.0        2.0  NaN"
      ]
     },
     "execution_count": 28,
     "metadata": {},
     "output_type": "execute_result"
    }
   ],
   "source": [
    "# done differently and more idiomatic NumPy: always think vectorization and try to do it declarative!\n",
    "# look up the meaning of the used methods\n",
    "clubs = ['Ajax', 'Feyenoord', 'PSV']\n",
    "m = len(clubs)\n",
    "df_competition = pd.DataFrame(np.array(np.random.randint(1,4,9)).reshape(m,m), columns=clubs, index=clubs)\n",
    "df_competition.where(np.eye(m) != 1)"
   ]
  },
  {
   "cell_type": "markdown",
   "metadata": {},
   "source": [
    "#### Getting and setting data from DataFrames\n",
    "It took me a little while to wrap my head around the []-operator on DataFrames. It is heavily overloaded:\n",
    "- if the paramater is a single value, it always identifies a single column and it returns a Series which is a view on the  DataFrame where it is taken from.\n",
    "- if the parameter is a slicer object, it always identiefies a set of rows and it returns a DataFrame object, which is again a view on the DataFrame it is taken from.\n",
    "\n",
    "If you want scalar lookup (retrieve the value of a single cell), you can use either loc[] or at[] (or any of their variants)"
   ]
  },
  {
   "cell_type": "code",
   "execution_count": 64,
   "metadata": {},
   "outputs": [
    {
     "data": {
      "text/plain": [
       "      AMS  EHV  RTD\n",
       "2014    0    1    2"
      ]
     },
     "execution_count": 64,
     "metadata": {},
     "output_type": "execute_result"
    }
   ],
   "source": [
    "df = pd.DataFrame(np.arange(6).reshape(2,3), index=[2014, 2015], columns=['AMS', 'EHV', 'RTD'])\n",
    "# return the first column. This returns a Series\n",
    "df.head(1)"
   ]
  },
  {
   "cell_type": "code",
   "execution_count": 48,
   "metadata": {},
   "outputs": [
    {
     "data": {
      "text/plain": [
       "2014    0\n",
       "2015    3\n",
       "Name: AMS, dtype: int64"
      ]
     },
     "execution_count": 48,
     "metadata": {},
     "output_type": "execute_result"
    }
   ],
   "source": [
    "# in contrast to Series, you can't use a column number if the type of column labels is not integer\n",
    "# df[0]    # commented out: won't work\n",
    "# but you could use iloc() for positional addressing:\n",
    "# use iloc() to get the first column\n",
    "df.iloc[::, 0]"
   ]
  },
  {
   "cell_type": "code",
   "execution_count": 96,
   "metadata": {},
   "outputs": [
    {
     "data": {
      "text/plain": [
       "AMS    3\n",
       "EHV    4\n",
       "RTD    5\n",
       "Name: 2015, dtype: int64"
      ]
     },
     "execution_count": 96,
     "metadata": {},
     "output_type": "execute_result"
    }
   ],
   "source": [
    "# return the last row of DataFrame df. This returns a Series\n",
    "df.iloc[1, ::]"
   ]
  },
  {
   "cell_type": "code",
   "execution_count": 71,
   "metadata": {},
   "outputs": [
    {
     "data": {
      "text/plain": [
       "      AMS  EHV  RTD\n",
       "2015    3    4    5"
      ]
     },
     "execution_count": 71,
     "metadata": {},
     "output_type": "execute_result"
    }
   ],
   "source": [
    "# return the last row of DataFrame df, but now return a DataFrame\n",
    "df.tail(1)"
   ]
  },
  {
   "cell_type": "code",
   "execution_count": 82,
   "metadata": {},
   "outputs": [
    {
     "data": {
      "text/plain": [
       "array([[3, 4, 5]])"
      ]
     },
     "execution_count": 82,
     "metadata": {},
     "output_type": "execute_result"
    }
   ],
   "source": [
    "# return the data in the last row od DataFrame df. Return as a NumPy array.\n",
    "# use the values() method\n",
    "df.tail(1).values"
   ]
  },
  {
   "cell_type": "code",
   "execution_count": 84,
   "metadata": {},
   "outputs": [
    {
     "ename": "AttributeError",
     "evalue": "'DataFrame' object has no attribute 'list'",
     "output_type": "error",
     "traceback": [
      "\u001b[0;31m---------------------------------------------------------------------------\u001b[0m",
      "\u001b[0;31mAttributeError\u001b[0m                            Traceback (most recent call last)",
      "\u001b[0;32m<ipython-input-84-4a5d76da8774>\u001b[0m in \u001b[0;36m<module>\u001b[0;34m()\u001b[0m\n\u001b[1;32m      1\u001b[0m \u001b[0;31m# return the data in the last row od DataFrame df. Return as a list.\u001b[0m\u001b[0;34m\u001b[0m\u001b[0;34m\u001b[0m\u001b[0m\n\u001b[1;32m      2\u001b[0m \u001b[0;31m# use the tolist() method\u001b[0m\u001b[0;34m\u001b[0m\u001b[0;34m\u001b[0m\u001b[0m\n\u001b[0;32m----> 3\u001b[0;31m \u001b[0mdf\u001b[0m\u001b[0;34m.\u001b[0m\u001b[0mtail\u001b[0m\u001b[0;34m(\u001b[0m\u001b[0;36m1\u001b[0m\u001b[0;34m)\u001b[0m\u001b[0;34m.\u001b[0m\u001b[0mlist\u001b[0m\u001b[0;34m(\u001b[0m\u001b[0;34m)\u001b[0m\u001b[0;34m\u001b[0m\u001b[0m\n\u001b[0m",
      "\u001b[0;32m~/.virtualenvs/ds71/lib/python3.6/site-packages/pandas/core/generic.py\u001b[0m in \u001b[0;36m__getattr__\u001b[0;34m(self, name)\u001b[0m\n\u001b[1;32m   3079\u001b[0m             \u001b[0;32mif\u001b[0m \u001b[0mname\u001b[0m \u001b[0;32min\u001b[0m \u001b[0mself\u001b[0m\u001b[0;34m.\u001b[0m\u001b[0m_info_axis\u001b[0m\u001b[0;34m:\u001b[0m\u001b[0;34m\u001b[0m\u001b[0m\n\u001b[1;32m   3080\u001b[0m                 \u001b[0;32mreturn\u001b[0m \u001b[0mself\u001b[0m\u001b[0;34m[\u001b[0m\u001b[0mname\u001b[0m\u001b[0;34m]\u001b[0m\u001b[0;34m\u001b[0m\u001b[0m\n\u001b[0;32m-> 3081\u001b[0;31m             \u001b[0;32mreturn\u001b[0m \u001b[0mobject\u001b[0m\u001b[0;34m.\u001b[0m\u001b[0m__getattribute__\u001b[0m\u001b[0;34m(\u001b[0m\u001b[0mself\u001b[0m\u001b[0;34m,\u001b[0m \u001b[0mname\u001b[0m\u001b[0;34m)\u001b[0m\u001b[0;34m\u001b[0m\u001b[0m\n\u001b[0m\u001b[1;32m   3082\u001b[0m \u001b[0;34m\u001b[0m\u001b[0m\n\u001b[1;32m   3083\u001b[0m     \u001b[0;32mdef\u001b[0m \u001b[0m__setattr__\u001b[0m\u001b[0;34m(\u001b[0m\u001b[0mself\u001b[0m\u001b[0;34m,\u001b[0m \u001b[0mname\u001b[0m\u001b[0;34m,\u001b[0m \u001b[0mvalue\u001b[0m\u001b[0;34m)\u001b[0m\u001b[0;34m:\u001b[0m\u001b[0;34m\u001b[0m\u001b[0m\n",
      "\u001b[0;31mAttributeError\u001b[0m: 'DataFrame' object has no attribute 'list'"
     ]
    }
   ],
   "source": [
    "# return the data in the last row od DataFrame df. Return as a list.\n",
    "# use the tolist() method\n",
    "df.tail(1).list()"
   ]
  },
  {
   "cell_type": "markdown",
   "metadata": {},
   "source": [
    "#### Adding data to DataFrames"
   ]
  },
  {
   "cell_type": "code",
   "execution_count": 99,
   "metadata": {},
   "outputs": [],
   "source": [
    "df = pd.DataFrame(np.arange(6).reshape(2,3), index=[2014,2015], columns=list(\"PQR\"))\n",
    "# add column S with values [10,11]\n"
   ]
  },
  {
   "cell_type": "code",
   "execution_count": null,
   "metadata": {},
   "outputs": [],
   "source": [
    "df = pd.DataFrame(np.arange(6).reshape(2,3), index=[2015,2015], columns=list(\"PQR\"))\n",
    "# append row [6,7,8] with label 2015 to dataframe\n"
   ]
  },
  {
   "cell_type": "code",
   "execution_count": null,
   "metadata": {},
   "outputs": [],
   "source": [
    "df = pd.DataFrame(np.arange(6).reshape(2,3), index=[2014,2015], columns=list(\"PQR\"))\n",
    "# add column S with values [10,11]. Use loc().\n",
    "\n",
    "\n",
    "# Now you can use a single method to add rows and columns."
   ]
  },
  {
   "cell_type": "code",
   "execution_count": null,
   "metadata": {},
   "outputs": [],
   "source": [
    "df = pd.DataFrame(np.arange(6).reshape(2,3), index=[2014,2015], columns=list(\"PQR\"))\n",
    "# append row [6,7,8] with label 2015 to dataframe by transposing, adding, transposing\n",
    "df = df.T\n",
    "df[2016] = [6,7,8]\n",
    "df = df.T\n",
    "df"
   ]
  },
  {
   "cell_type": "markdown",
   "metadata": {},
   "source": [
    "#### Views versus copies\n",
    "View/copy semantics are largely inherited form NumPy. Read [this article](http://tinyurl.com/q3vz2je) to understand the NumPy rules. Then read this [thorough explanation on SO](http://goo.gl/a43POn) that is specifically for pandas.\n",
    "\n",
    "Can you explain the subtleties below?"
   ]
  },
  {
   "cell_type": "code",
   "execution_count": null,
   "metadata": {},
   "outputs": [],
   "source": [
    "df = pd.DataFrame(np.arange(6).reshape(2,3), index=[2014,2015], columns=list(\"PQR\"))\n",
    "df1 = df[['P', 'R']]\n",
    "df1.loc[2015, 'R'] = -1\n",
    "df"
   ]
  },
  {
   "cell_type": "code",
   "execution_count": null,
   "metadata": {},
   "outputs": [],
   "source": [
    "df = pd.DataFrame(np.arange(6).reshape(2,3), index=[2014,2015], columns=list(\"PQR\"))\n",
    "df1 = df\n",
    "df1.loc[2015, 'R'] = -1\n",
    "df"
   ]
  },
  {
   "cell_type": "code",
   "execution_count": null,
   "metadata": {},
   "outputs": [],
   "source": [
    "df = pd.DataFrame(np.arange(6).reshape(2,3), index=[2014,2015], columns=list(\"PQR\"))\n",
    "df1 = df[:]\n",
    "df1.loc[2015, 'R'] = -1\n",
    "df"
   ]
  }
 ],
 "metadata": {
  "kernelspec": {
   "display_name": "Python 3",
   "language": "python",
   "name": "python3"
  },
  "language_info": {
   "codemirror_mode": {
    "name": "ipython",
    "version": 3
   },
   "file_extension": ".py",
   "mimetype": "text/x-python",
   "name": "python",
   "nbconvert_exporter": "python",
   "pygments_lexer": "ipython3",
   "version": "3.6.2"
  }
 },
 "nbformat": 4,
 "nbformat_minor": 1
}
